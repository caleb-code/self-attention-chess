{
  "nbformat": 4,
  "nbformat_minor": 0,
  "metadata": {
    "colab": {
      "provenance": [],
      "gpuType": "A100",
      "machine_shape": "hm",
      "authorship_tag": "ABX9TyM6i35ucRsIcdTMtgPXG8gl",
      "include_colab_link": true
    },
    "kernelspec": {
      "name": "python3",
      "display_name": "Python 3"
    },
    "language_info": {
      "name": "python"
    },
    "accelerator": "GPU"
  },
  "cells": [
    {
      "cell_type": "markdown",
      "metadata": {
        "id": "view-in-github",
        "colab_type": "text"
      },
      "source": [
        "<a href=\"https://colab.research.google.com/github/caleb-code/self-attention-chess/blob/main/Chess_Self_Attention.ipynb\" target=\"_parent\"><img src=\"https://colab.research.google.com/assets/colab-badge.svg\" alt=\"Open In Colab\"/></a>"
      ]
    },
    {
      "cell_type": "code",
      "execution_count": null,
      "metadata": {
        "id": "m0wYKcFc0XhK",
        "colab": {
          "base_uri": "https://localhost:8080/"
        },
        "outputId": "62c0beb0-6ce3-447c-e337-bcfa48b22dae",
        "collapsed": true
      },
      "outputs": [
        {
          "output_type": "stream",
          "name": "stdout",
          "text": [
            "Collecting chess\n",
            "  Downloading chess-1.11.2.tar.gz (6.1 MB)\n",
            "\u001b[?25l     \u001b[90m━━━━━━━━━━━━━━━━━━━━━━━━━━━━━━━━━━━━━━━━\u001b[0m \u001b[32m0.0/6.1 MB\u001b[0m \u001b[31m?\u001b[0m eta \u001b[36m-:--:--\u001b[0m\r\u001b[2K     \u001b[91m━━━━━━━━━━━━━━━\u001b[0m\u001b[90m╺\u001b[0m\u001b[90m━━━━━━━━━━━━━━━━━━━━━━━━\u001b[0m \u001b[32m2.3/6.1 MB\u001b[0m \u001b[31m74.3 MB/s\u001b[0m eta \u001b[36m0:00:01\u001b[0m\r\u001b[2K     \u001b[91m━━━━━━━━━━━━━━━━━━━\u001b[0m\u001b[90m╺\u001b[0m\u001b[90m━━━━━━━━━━━━━━━━━━━━\u001b[0m \u001b[32m3.0/6.1 MB\u001b[0m \u001b[31m43.4 MB/s\u001b[0m eta \u001b[36m0:00:01\u001b[0m\r\u001b[2K     \u001b[91m━━━━━━━━━━━━━━━━━━━━━━━━━━━━━━━━━━━━━━━\u001b[0m\u001b[91m╸\u001b[0m \u001b[32m6.1/6.1 MB\u001b[0m \u001b[31m69.9 MB/s\u001b[0m eta \u001b[36m0:00:01\u001b[0m\r\u001b[2K     \u001b[90m━━━━━━━━━━━━━━━━━━━━━━━━━━━━━━━━━━━━━━━━\u001b[0m \u001b[32m6.1/6.1 MB\u001b[0m \u001b[31m55.6 MB/s\u001b[0m eta \u001b[36m0:00:00\u001b[0m\n",
            "\u001b[?25h  Preparing metadata (setup.py) ... \u001b[?25l\u001b[?25hdone\n",
            "Building wheels for collected packages: chess\n",
            "  Building wheel for chess (setup.py) ... \u001b[?25l\u001b[?25hdone\n",
            "  Created wheel for chess: filename=chess-1.11.2-py3-none-any.whl size=147775 sha256=0b83eda19749b195b8fdf49c655be0db0daac58c7a6f0a832095a17a3a5eae61\n",
            "  Stored in directory: /root/.cache/pip/wheels/83/1f/4e/8f4300f7dd554eb8de70ddfed96e94d3d030ace10c5b53d447\n",
            "Successfully built chess\n",
            "Installing collected packages: chess\n",
            "Successfully installed chess-1.11.2\n",
            "Looking in indexes: https://download.pytorch.org/whl/cpu\n",
            "Requirement already satisfied: torch in /usr/local/lib/python3.12/dist-packages (2.8.0+cu126)\n",
            "Requirement already satisfied: torchvision in /usr/local/lib/python3.12/dist-packages (0.23.0+cu126)\n",
            "Requirement already satisfied: torchaudio in /usr/local/lib/python3.12/dist-packages (2.8.0+cu126)\n",
            "Requirement already satisfied: filelock in /usr/local/lib/python3.12/dist-packages (from torch) (3.19.1)\n",
            "Requirement already satisfied: typing-extensions>=4.10.0 in /usr/local/lib/python3.12/dist-packages (from torch) (4.15.0)\n",
            "Requirement already satisfied: setuptools in /usr/local/lib/python3.12/dist-packages (from torch) (75.2.0)\n",
            "Requirement already satisfied: sympy>=1.13.3 in /usr/local/lib/python3.12/dist-packages (from torch) (1.13.3)\n",
            "Requirement already satisfied: networkx in /usr/local/lib/python3.12/dist-packages (from torch) (3.5)\n",
            "Requirement already satisfied: jinja2 in /usr/local/lib/python3.12/dist-packages (from torch) (3.1.6)\n",
            "Requirement already satisfied: fsspec in /usr/local/lib/python3.12/dist-packages (from torch) (2025.3.0)\n",
            "Requirement already satisfied: nvidia-cuda-nvrtc-cu12==12.6.77 in /usr/local/lib/python3.12/dist-packages (from torch) (12.6.77)\n",
            "Requirement already satisfied: nvidia-cuda-runtime-cu12==12.6.77 in /usr/local/lib/python3.12/dist-packages (from torch) (12.6.77)\n",
            "Requirement already satisfied: nvidia-cuda-cupti-cu12==12.6.80 in /usr/local/lib/python3.12/dist-packages (from torch) (12.6.80)\n",
            "Requirement already satisfied: nvidia-cudnn-cu12==9.10.2.21 in /usr/local/lib/python3.12/dist-packages (from torch) (9.10.2.21)\n",
            "Requirement already satisfied: nvidia-cublas-cu12==12.6.4.1 in /usr/local/lib/python3.12/dist-packages (from torch) (12.6.4.1)\n",
            "Requirement already satisfied: nvidia-cufft-cu12==11.3.0.4 in /usr/local/lib/python3.12/dist-packages (from torch) (11.3.0.4)\n",
            "Requirement already satisfied: nvidia-curand-cu12==10.3.7.77 in /usr/local/lib/python3.12/dist-packages (from torch) (10.3.7.77)\n",
            "Requirement already satisfied: nvidia-cusolver-cu12==11.7.1.2 in /usr/local/lib/python3.12/dist-packages (from torch) (11.7.1.2)\n",
            "Requirement already satisfied: nvidia-cusparse-cu12==12.5.4.2 in /usr/local/lib/python3.12/dist-packages (from torch) (12.5.4.2)\n",
            "Requirement already satisfied: nvidia-cusparselt-cu12==0.7.1 in /usr/local/lib/python3.12/dist-packages (from torch) (0.7.1)\n",
            "Requirement already satisfied: nvidia-nccl-cu12==2.27.3 in /usr/local/lib/python3.12/dist-packages (from torch) (2.27.3)\n",
            "Requirement already satisfied: nvidia-nvtx-cu12==12.6.77 in /usr/local/lib/python3.12/dist-packages (from torch) (12.6.77)\n",
            "Requirement already satisfied: nvidia-nvjitlink-cu12==12.6.85 in /usr/local/lib/python3.12/dist-packages (from torch) (12.6.85)\n",
            "Requirement already satisfied: nvidia-cufile-cu12==1.11.1.6 in /usr/local/lib/python3.12/dist-packages (from torch) (1.11.1.6)\n",
            "Requirement already satisfied: triton==3.4.0 in /usr/local/lib/python3.12/dist-packages (from torch) (3.4.0)\n",
            "Requirement already satisfied: numpy in /usr/local/lib/python3.12/dist-packages (from torchvision) (2.0.2)\n",
            "Requirement already satisfied: pillow!=8.3.*,>=5.3.0 in /usr/local/lib/python3.12/dist-packages (from torchvision) (11.3.0)\n",
            "Requirement already satisfied: mpmath<1.4,>=1.1.0 in /usr/local/lib/python3.12/dist-packages (from sympy>=1.13.3->torch) (1.3.0)\n",
            "Requirement already satisfied: MarkupSafe>=2.0 in /usr/local/lib/python3.12/dist-packages (from jinja2->torch) (3.0.3)\n",
            "Collecting berserk\n",
            "  Downloading berserk-0.14.0-py3-none-any.whl.metadata (8.7 kB)\n",
            "Collecting deprecated>=1.2.14 (from berserk)\n",
            "  Downloading Deprecated-1.2.18-py2.py3-none-any.whl.metadata (5.7 kB)\n",
            "Collecting ndjson>=0.3.1 (from berserk)\n",
            "  Downloading ndjson-0.3.1-py2.py3-none-any.whl.metadata (3.2 kB)\n",
            "Requirement already satisfied: python-dateutil>=2.8.2 in /usr/local/lib/python3.12/dist-packages (from berserk) (2.9.0.post0)\n",
            "Requirement already satisfied: requests>=2.28.2 in /usr/local/lib/python3.12/dist-packages (from berserk) (2.32.4)\n",
            "Requirement already satisfied: typing-extensions>=4.7.1 in /usr/local/lib/python3.12/dist-packages (from berserk) (4.15.0)\n",
            "Requirement already satisfied: wrapt<2,>=1.10 in /usr/local/lib/python3.12/dist-packages (from deprecated>=1.2.14->berserk) (1.17.3)\n",
            "Requirement already satisfied: six>=1.5 in /usr/local/lib/python3.12/dist-packages (from python-dateutil>=2.8.2->berserk) (1.17.0)\n",
            "Requirement already satisfied: charset_normalizer<4,>=2 in /usr/local/lib/python3.12/dist-packages (from requests>=2.28.2->berserk) (3.4.3)\n",
            "Requirement already satisfied: idna<4,>=2.5 in /usr/local/lib/python3.12/dist-packages (from requests>=2.28.2->berserk) (3.10)\n",
            "Requirement already satisfied: urllib3<3,>=1.21.1 in /usr/local/lib/python3.12/dist-packages (from requests>=2.28.2->berserk) (2.5.0)\n",
            "Requirement already satisfied: certifi>=2017.4.17 in /usr/local/lib/python3.12/dist-packages (from requests>=2.28.2->berserk) (2025.8.3)\n",
            "Downloading berserk-0.14.0-py3-none-any.whl (63 kB)\n",
            "\u001b[2K   \u001b[90m━━━━━━━━━━━━━━━━━━━━━━━━━━━━━━━━━━━━━━━━\u001b[0m \u001b[32m63.0/63.0 kB\u001b[0m \u001b[31m5.9 MB/s\u001b[0m eta \u001b[36m0:00:00\u001b[0m\n",
            "\u001b[?25hDownloading Deprecated-1.2.18-py2.py3-none-any.whl (10.0 kB)\n",
            "Downloading ndjson-0.3.1-py2.py3-none-any.whl (5.3 kB)\n",
            "Installing collected packages: ndjson, deprecated, berserk\n",
            "Successfully installed berserk-0.14.0 deprecated-1.2.18 ndjson-0.3.1\n"
          ]
        }
      ],
      "source": [
        "!pip install chess\n",
        "!pip install torch torchvision torchaudio --index-url https://download.pytorch.org/whl/cpu\n",
        "!pip install berserk"
      ]
    },
    {
      "cell_type": "code",
      "source": [
        "#@title Initialize functions\n",
        "import numpy as np\n",
        "import torch\n",
        "import torch.nn as nn\n",
        "\n",
        "class ResidualBlock(nn.Module):\n",
        "    def __init__(self, hidden_dim):\n",
        "        super().__init__()\n",
        "        self.linear = nn.Linear(hidden_dim, hidden_dim)\n",
        "        self.relu = nn.ReLU()\n",
        "        self.norm = nn.LayerNorm(hidden_dim)\n",
        "        self.dropout = nn.Dropout(0.1)\n",
        "\n",
        "    def forward(self, x):\n",
        "        residual = x\n",
        "        out = self.linear(x)\n",
        "        out = self.relu(out)\n",
        "        out = self.dropout(out)\n",
        "        out = out + residual\n",
        "        out = self.norm(out)\n",
        "        return out\n",
        "\n",
        "class ChessAttentionModel(nn.Module):\n",
        "    def __init__(self, hidden_dim, num_squares=64, feature_dim=12):\n",
        "        super().__init__()\n",
        "        self.hidden_dim = hidden_dim\n",
        "        self.num_squares = num_squares  # Must be 64 for chessboard\n",
        "        self.feature_dim = feature_dim  # 12 for 6 white + 6 black pieces\n",
        "        self.scale = torch.sqrt(torch.tensor(hidden_dim, dtype=torch.float32).to('cpu'))  # Ensure scalar on CPU for stability\n",
        "\n",
        "        self.input_projection = nn.Linear(feature_dim, hidden_dim)\n",
        "\n",
        "        # Correct shape: [1, num_squares=64, hidden_dim]\n",
        "        # Safeguard: Assert to catch init errors\n",
        "        pos_shape = (1, num_squares, hidden_dim)\n",
        "        self.pos_embeddings = nn.Parameter(torch.randn(pos_shape))\n",
        "\n",
        "        self.w_V = nn.Linear(hidden_dim, hidden_dim)\n",
        "        self.w_K = nn.Linear(hidden_dim, hidden_dim)\n",
        "        self.w_Q = nn.Linear(hidden_dim, hidden_dim)\n",
        "        self.final_linear = nn.Linear(hidden_dim, 1)\n",
        "        self.dropout = nn.Dropout(0.12)\n",
        "        self.norm = nn.LayerNorm(hidden_dim)\n",
        "        self.layers = nn.ModuleList([ResidualBlock(hidden_dim) for _ in range(4)])\n",
        "        self.tanh = nn.Tanh()\n",
        "\n",
        "    def attention(self, x):\n",
        "        V = self.w_V(x)\n",
        "        K = self.w_K(x)\n",
        "        Q = self.w_Q(x)\n",
        "        attn_scores = torch.matmul(Q, K.transpose(-2, -1)) / self.scale\n",
        "        attn_probs = torch.softmax(attn_scores, dim=-1)\n",
        "        return torch.matmul(attn_probs, V)\n",
        "\n",
        "    def forward(self, x):\n",
        "        # Input: [batch_size, 64, feature_dim=12]\n",
        "        x = self.input_projection(x)  # [batch_size, 64, hidden_dim]\n",
        "\n",
        "        # Debug print (remove after fixing)\n",
        "        # print(f\"x shape: {x.shape}, pos_embeddings shape: {self.pos_embeddings.shape}\")\n",
        "\n",
        "        # Safeguard: Assert shapes match for addition\n",
        "        assert x.shape[1] == self.pos_embeddings.shape[1], f\"Sequence length mismatch: x dim1={x.shape[1]}, pos dim1={self.pos_embeddings.shape[1]}\"\n",
        "\n",
        "        x = x + self.pos_embeddings  # Now broadcasts correctly: [batch, 64, hidden_dim]\n",
        "        x = self.attention(x)\n",
        "        x_o = self.norm(self.dropout(x) + x)  # Residual\n",
        "        for layer in self.layers:\n",
        "            x_o = layer(x_o)\n",
        "        x_o = x_o.mean(dim=1)  # Pool: [batch_size, hidden_dim]\n",
        "        return self.tanh(self.final_linear(x_o))  # [batch_size, 1]\n",
        "\n",
        "def board_to_tensor(board):\n",
        "    tensor = torch.zeros(1, 64, 12, dtype=torch.float32)\n",
        "    for i in range(64):\n",
        "        piece = board.piece_at(i)\n",
        "        if piece:\n",
        "            piece_idx = piece.piece_type - 1  # 0-based: 0=P, 1=N, 2=B, 3=R, 4=Q, 5=K\n",
        "            if piece.color == chess.WHITE:\n",
        "                tensor[0, i, piece_idx] = 1.0\n",
        "            else:  # Black\n",
        "                tensor[0, i, 6 + piece_idx] = 1.0\n",
        "\n",
        "    return tensor\n",
        "def get_first_cp(item):\n",
        "    for eval_entry in item.get('evals', []):\n",
        "        for pv_entry in eval_entry.get('pvs', []):\n",
        "            if 'cp' in pv_entry:\n",
        "                return pv_entry['cp']\n",
        "    return None  # fallback if nothing found"
      ],
      "metadata": {
        "id": "HJbGMRvWzZ0U",
        "cellView": "form"
      },
      "execution_count": null,
      "outputs": []
    },
    {
      "cell_type": "code",
      "source": [
        "#@title Download dataset from lichess\n",
        "!apt install zstd\n",
        "!wget https://database.lichess.org/lichess_db_eval.jsonl.zst\n",
        "!zstd -d lichess_db_eval.jsonl.zst -o data.json\n",
        "!pip install ijson\n",
        "\n",
        "import json\n",
        "import chess\n",
        "from tqdm import tqdm\n",
        "\n",
        "x_list, y_list = [], []\n",
        "\n",
        "max_items = 10_000_000\n",
        "\n",
        "with open(\"data.json\", \"r\") as f:\n",
        "    for count, line in enumerate(tqdm(f)):\n",
        "        if count >= max_items:\n",
        "            break\n",
        "        item = json.loads(line)\n",
        "\n",
        "        cp = get_first_cp(item)\n",
        "        if cp is not None:\n",
        "            x_list.append(board_to_tensor(chess.Board(item['fen'])))\n",
        "            y_list.append(torch.tanh(torch.tensor(cp / 400, dtype=torch.float32)))"
      ],
      "metadata": {
        "id": "jsDCqa7c7cDb",
        "cellView": "form"
      },
      "execution_count": null,
      "outputs": []
    },
    {
      "cell_type": "code",
      "source": [
        "#@title Save data to .pt\n",
        "x_tensor = torch.stack(x_list)\n",
        "y_tensor = torch.stack(y_list)\n",
        "torch.save({'x': x_tensor, 'y': y_tensor}, 'data_chunk.pt')"
      ],
      "metadata": {
        "id": "5uij2bx0FxOY",
        "cellView": "form"
      },
      "execution_count": null,
      "outputs": []
    },
    {
      "cell_type": "code",
      "source": [
        "#@title Save model to .pt\n",
        "torch.save(model, \"model.pt\")"
      ],
      "metadata": {
        "id": "dQQZ0oA1UTHN"
      },
      "execution_count": null,
      "outputs": []
    },
    {
      "cell_type": "code",
      "source": [
        "#@title Load dataset\n",
        "l = torch.load(\"data_chunk.pt\")\n",
        "x_lim = -1 #@param\n",
        "y_lim = -1 #@param\n",
        "x_tensor = l['x'][0:x_lim]\n",
        "y_tensor = l['y'][0:y_lim]"
      ],
      "metadata": {
        "id": "94qpilwNMvBJ",
        "cellView": "form"
      },
      "execution_count": null,
      "outputs": []
    },
    {
      "cell_type": "code",
      "source": [
        "#@title Initialize model for training\n",
        "hidden_dim = 512 #@param\n",
        "device = torch.device(\"cuda\" if torch.cuda.is_available() else \"cpu\")\n",
        "model = ChessAttentionModel(hidden_dim=hidden_dim).to(device)\n",
        "model = torch.compile(model)\n",
        "print(\"Model compiled successfully!\")\n",
        "torch.set_float32_matmul_precision(\"high\")"
      ],
      "metadata": {
        "id": "nK2Oy_qUEY0q",
        "colab": {
          "base_uri": "https://localhost:8080/"
        },
        "outputId": "77a7c7b6-942d-4594-e33e-65d2867c06cd",
        "cellView": "form"
      },
      "execution_count": null,
      "outputs": [
        {
          "output_type": "stream",
          "name": "stdout",
          "text": [
            "Model compiled successfully!\n"
          ]
        }
      ]
    },
    {
      "cell_type": "code",
      "source": [
        "model = torch.load(\"model.pt\", weights_only = False)\n",
        "device = torch.device(\"cuda\" if torch.cuda.is_available() else \"cpu\")\n",
        "model = torch.compile(model.to(device))\n",
        "torch.set_float32_matmul_precision(\"high\")"
      ],
      "metadata": {
        "id": "KDmxCCk9tiqK"
      },
      "execution_count": null,
      "outputs": []
    },
    {
      "cell_type": "code",
      "metadata": {
        "colab": {
          "base_uri": "https://localhost:8080/"
        },
        "id": "ebfb585a",
        "outputId": "2321d0b2-532b-4a1e-e772-eba441755eff",
        "cellView": "form"
      },
      "source": [
        "#@title Count model parameters\n",
        "def count_parameters(model):\n",
        "    return sum(p.numel() for p in model.parameters() if p.requires_grad)\n",
        "\n",
        "num_params = count_parameters(model)\n",
        "print(f\"The model has {num_params:,} trainable parameters.\")"
      ],
      "execution_count": null,
      "outputs": [
        {
          "output_type": "stream",
          "name": "stdout",
          "text": [
            "The model has 1,883,649 trainable parameters.\n"
          ]
        }
      ]
    },
    {
      "cell_type": "code",
      "source": [
        "#@title Train Model\n",
        "from tqdm import tqdm\n",
        "print(device)\n",
        "num_epochs = 50 #@param\n",
        "batch_size = 64 #@param\n",
        "learning_rate = 0.0001 #@param\n",
        "\n",
        "criterion = torch.nn.MSELoss()\n",
        "optimizer = torch.optim.Adam(model.parameters(), lr=learning_rate)\n",
        "\n",
        "print(\"Starting training on loaded data...\")\n",
        "\n",
        "# Create DataLoader for batching\n",
        "dataset = torch.utils.data.TensorDataset(x_tensor, y_tensor)\n",
        "dataloader = torch.utils.data.DataLoader(dataset, batch_size=batch_size, shuffle=True)\n",
        "\n",
        "\n",
        "for epoch in range(num_epochs):\n",
        "    model.train()\n",
        "    running_loss = 0.0\n",
        "    pbar = tqdm(dataloader)\n",
        "    for inputs, labels in pbar:\n",
        "        # Fix: Remove the extra dimension from inputs\n",
        "        inputs = inputs.squeeze(1).to(device)\n",
        "        labels = labels.to(device).unsqueeze(1) # Add a dimension to labels to match model output\n",
        "\n",
        "        optimizer.zero_grad()\n",
        "        outputs = model(inputs)\n",
        "        loss = criterion(outputs, labels)\n",
        "        loss.backward()\n",
        "        optimizer.step()\n",
        "        running_loss += loss.item() * inputs.size(0) # Multiply by batch size for correct average\n",
        "        if pbar.n != 0:\n",
        "          pbar.set_postfix({\"loss\": f\"{running_loss/(64*pbar.n):.2f}\"})\n",
        "    epoch_loss = running_loss / len(dataset)\n",
        "    print(f\"Epoch [{epoch + 1}/{num_epochs}], Loss: {epoch_loss:.4f}\")\n",
        "\n",
        "print(\"Training on loaded data finished.\")"
      ],
      "metadata": {
        "id": "b2Mdr5Oa_Zgc",
        "colab": {
          "base_uri": "https://localhost:8080/"
        },
        "outputId": "2a046537-47f1-434a-ce7a-a20b8862fa70",
        "cellView": "form"
      },
      "execution_count": null,
      "outputs": [
        {
          "output_type": "stream",
          "name": "stdout",
          "text": [
            "cuda\n",
            "Starting training on loaded data...\n"
          ]
        },
        {
          "output_type": "stream",
          "name": "stderr",
          "text": [
            "100%|██████████| 40803/40803 [04:10<00:00, 163.09it/s, loss=0.19]\n"
          ]
        },
        {
          "output_type": "stream",
          "name": "stdout",
          "text": [
            "Epoch [1/50], Loss: 0.1882\n"
          ]
        },
        {
          "output_type": "stream",
          "name": "stderr",
          "text": [
            "100%|██████████| 40803/40803 [04:08<00:00, 163.92it/s, loss=0.19]\n"
          ]
        },
        {
          "output_type": "stream",
          "name": "stdout",
          "text": [
            "Epoch [2/50], Loss: 0.1866\n"
          ]
        },
        {
          "output_type": "stream",
          "name": "stderr",
          "text": [
            "100%|██████████| 40803/40803 [04:11<00:00, 162.39it/s, loss=0.19]\n"
          ]
        },
        {
          "output_type": "stream",
          "name": "stdout",
          "text": [
            "Epoch [3/50], Loss: 0.1856\n"
          ]
        },
        {
          "output_type": "stream",
          "name": "stderr",
          "text": [
            "100%|██████████| 40803/40803 [04:08<00:00, 164.02it/s, loss=0.19]\n"
          ]
        },
        {
          "output_type": "stream",
          "name": "stdout",
          "text": [
            "Epoch [4/50], Loss: 0.1860\n"
          ]
        },
        {
          "output_type": "stream",
          "name": "stderr",
          "text": [
            "100%|██████████| 40803/40803 [04:09<00:00, 163.34it/s, loss=0.19]\n"
          ]
        },
        {
          "output_type": "stream",
          "name": "stdout",
          "text": [
            "Epoch [5/50], Loss: 0.1861\n"
          ]
        },
        {
          "output_type": "stream",
          "name": "stderr",
          "text": [
            "100%|██████████| 40803/40803 [04:11<00:00, 162.26it/s, loss=0.19]\n"
          ]
        },
        {
          "output_type": "stream",
          "name": "stdout",
          "text": [
            "Epoch [6/50], Loss: 0.1858\n"
          ]
        },
        {
          "output_type": "stream",
          "name": "stderr",
          "text": [
            "100%|██████████| 40803/40803 [04:09<00:00, 163.51it/s, loss=0.19]\n"
          ]
        },
        {
          "output_type": "stream",
          "name": "stdout",
          "text": [
            "Epoch [7/50], Loss: 0.1852\n"
          ]
        },
        {
          "output_type": "stream",
          "name": "stderr",
          "text": [
            "100%|██████████| 40803/40803 [04:08<00:00, 164.06it/s, loss=0.18]\n"
          ]
        },
        {
          "output_type": "stream",
          "name": "stdout",
          "text": [
            "Epoch [8/50], Loss: 0.1841\n"
          ]
        },
        {
          "output_type": "stream",
          "name": "stderr",
          "text": [
            "100%|██████████| 40803/40803 [04:09<00:00, 163.66it/s, loss=0.18]\n"
          ]
        },
        {
          "output_type": "stream",
          "name": "stdout",
          "text": [
            "Epoch [9/50], Loss: 0.1838\n"
          ]
        },
        {
          "output_type": "stream",
          "name": "stderr",
          "text": [
            "100%|██████████| 40803/40803 [04:08<00:00, 163.97it/s, loss=0.18]\n"
          ]
        },
        {
          "output_type": "stream",
          "name": "stdout",
          "text": [
            "Epoch [10/50], Loss: 0.1833\n"
          ]
        },
        {
          "output_type": "stream",
          "name": "stderr",
          "text": [
            "100%|██████████| 40803/40803 [04:11<00:00, 161.94it/s, loss=0.18]\n"
          ]
        },
        {
          "output_type": "stream",
          "name": "stdout",
          "text": [
            "Epoch [11/50], Loss: 0.1834\n"
          ]
        },
        {
          "output_type": "stream",
          "name": "stderr",
          "text": [
            "100%|██████████| 40803/40803 [04:10<00:00, 162.89it/s, loss=0.18]\n"
          ]
        },
        {
          "output_type": "stream",
          "name": "stdout",
          "text": [
            "Epoch [12/50], Loss: 0.1836\n"
          ]
        },
        {
          "output_type": "stream",
          "name": "stderr",
          "text": [
            "100%|██████████| 40803/40803 [04:10<00:00, 162.86it/s, loss=0.18]\n"
          ]
        },
        {
          "output_type": "stream",
          "name": "stdout",
          "text": [
            "Epoch [13/50], Loss: 0.1832\n"
          ]
        },
        {
          "output_type": "stream",
          "name": "stderr",
          "text": [
            "100%|██████████| 40803/40803 [04:09<00:00, 163.25it/s, loss=0.18]\n"
          ]
        },
        {
          "output_type": "stream",
          "name": "stdout",
          "text": [
            "Epoch [14/50], Loss: 0.1830\n"
          ]
        },
        {
          "output_type": "stream",
          "name": "stderr",
          "text": [
            "100%|██████████| 40803/40803 [04:09<00:00, 163.24it/s, loss=0.18]\n"
          ]
        },
        {
          "output_type": "stream",
          "name": "stdout",
          "text": [
            "Epoch [15/50], Loss: 0.1836\n"
          ]
        },
        {
          "output_type": "stream",
          "name": "stderr",
          "text": [
            " 23%|██▎       | 9425/40803 [00:57<03:08, 166.06it/s, loss=0.18]"
          ]
        }
      ]
    },
    {
      "cell_type": "code",
      "source": [
        "def get_best_move(board: chess.Board, model, turn):\n",
        "  possible_boards = []\n",
        "  possible_moves = []\n",
        "  model.eval()\n",
        "  for i in board.legal_moves:\n",
        "    b = board.copy()\n",
        "    b.push(i)\n",
        "    possible_moves.append(i)\n",
        "    if i == chess.Move.from_uci(\"h5h4\"):\n",
        "      print(len(possible_moves)-1)\n",
        "    possible_boards.append(board_to_tensor(b).squeeze(0))\n",
        "  p_b = torch.stack(possible_boards).to(device)\n",
        "  print(p_b.shape)\n",
        "  prob_tens = model(p_b).cpu().detach()\n",
        "  idx = np.argmax(prob_tens.numpy())\n",
        "  print(torch.std(prob_tens), torch.mean(prob_tens), torch.max(prob_tens), torch.min(prob_tens))\n",
        "  return possible_moves[idx]"
      ],
      "metadata": {
        "id": "6wWPpTEdaan1"
      },
      "execution_count": null,
      "outputs": []
    },
    {
      "cell_type": "code",
      "metadata": {
        "id": "73c1af35"
      },
      "source": [
        "def play_text_game(model):\n",
        "    board = chess.Board()\n",
        "    print(\"Starting a text-based chess game against the model.\")\n",
        "    print(board)\n",
        "\n",
        "    while not board.is_game_over():\n",
        "        # Get player move\n",
        "        # Get model move\n",
        "        print(\"\\nModel is thinking...\")\n",
        "        model_move = get_best_move(board, model, board.turn)\n",
        "        board.push(model_move)\n",
        "        print(\"Model's move:\")\n",
        "        print(board)\n",
        "\n",
        "        if board.is_game_over():\n",
        "            print(f\"Game over: {board.result()}\")\n",
        "            break\n",
        "\n",
        "        while True:\n",
        "            move_uci = input(\"Enter your move (in UCI format, e.g., e2e4): \")\n",
        "            try:\n",
        "                move = board.parse_uci(move_uci)\n",
        "                if move in board.legal_moves:\n",
        "                    board.push(move)\n",
        "                    print(\"\\nYour move:\")\n",
        "                    print(board)\n",
        "                    break\n",
        "                else:\n",
        "                    print(\"Illegal move. Try again.\")\n",
        "            except ValueError:\n",
        "                print(\"Invalid UCI format. Try again.\")\n",
        "\n",
        "        if board.is_game_over():\n",
        "            print(f\"Game over: {board.result()}\")\n",
        "            break\n",
        "\n",
        "\n",
        "\n",
        "    print(f\"Game over: {board.result()}\")\n",
        "\n",
        "# Assuming 'model' is already loaded from a previous cell\n",
        "# If not, make sure to load it here:\n",
        "# model = torch.load(\"model.pt\", weights_only=False)\n",
        "\n",
        "play_text_game(model)"
      ],
      "execution_count": null,
      "outputs": []
    }
  ]
}